{
 "cells": [
  {
   "cell_type": "markdown",
   "metadata": {},
   "source": [
    "# Example for qutrit GST\n",
    "This notebook demonstrates how to construct the operation sequences and perform the analysis for qutrit GST when the model consists of symmetric $\\pi/2$-rotations on each single qubit separately, `X`, `Y` and a 2-qubit Molmer-Sorenson gate which rotates around the `XX` axis by $\\pi/2$."
   ]
  },
  {
   "cell_type": "code",
   "execution_count": 1,
   "metadata": {},
   "outputs": [],
   "source": [
    "import pygsti\n",
    "from pygsti.models import qutrit\n",
    "from pygsti.algorithms.fiducialselection import find_fiducials\n",
    "from pygsti.algorithms.germselection import find_germs\n",
    "\n",
    "from numpy import pi, array\n",
    "import pickle\n",
    "\n",
    "import numpy as np"
   ]
  },
  {
   "cell_type": "markdown",
   "metadata": {},
   "source": [
    "First, we construct the target model.  This functionality is built into pyGSTi, so we just need to specify the single-qubit and M-S angles.\n",
    "Note there are alternative approaches for building a qutrit model in pygsti using processor specification objects, but for this particular class of qutrit models in this example notebook there exist helper functions for creating the relevant models."
   ]
  },
  {
   "cell_type": "code",
   "execution_count": 2,
   "metadata": {
    "tags": []
   },
   "outputs": [
    {
     "name": "stdout",
     "output_type": "stream",
     "text": [
      "rho0 = TPState with dimension 9\n",
      " 0.58-0.41   0   0   0   0 0.71   0   0\n",
      "\n",
      "\n",
      "Mdefault = TPPOVM with effect vectors:\n",
      "0bright: FullPOVMEffect with dimension 9\n",
      " 0.58-0.41   0   0   0   0 0.71   0   0\n",
      "\n",
      "1bright: FullPOVMEffect with dimension 9\n",
      " 0.58 0.82   0   0   0   0   0   0   0\n",
      "\n",
      "2bright: ComplementPOVMEffect with dimension 9\n",
      " 0.58-0.41   0   0   0   0-0.71   0   0\n",
      "\n",
      "\n",
      "\n",
      "Gi:QT = \n",
      "FullTPOp with shape (9, 9)\n",
      " 1.00   0   0   0   0   0   0   0   0\n",
      "   0 1.00   0   0   0   0   0   0   0\n",
      "   0   0 1.00   0   0   0   0   0   0\n",
      "   0   0   0 1.00   0   0   0   0   0\n",
      "   0   0   0   0 1.00   0   0   0   0\n",
      "   0   0   0   0   0 1.00   0   0   0\n",
      "   0   0   0   0   0   0 1.00   0   0\n",
      "   0   0   0   0   0   0   0 1.00   0\n",
      "   0   0   0   0   0   0   0   0 1.00\n",
      "\n",
      "\n",
      "Gx:QT = \n",
      "FullTPOp with shape (9, 9)\n",
      " 1.00   0   0   0   0   0   0   0   0\n",
      "   0-0.50 0.87   0   0   0   0   0   0\n",
      "   0 0.87 0.50   0   0   0   0   0   0\n",
      "   0   0   0-1.00   0   0   0   0   0\n",
      "   0   0   0   0 1.00   0   0   0   0\n",
      "   0   0   0   0   0   0-1.00   0   0\n",
      "   0   0   0   0   0 1.00   0   0   0\n",
      "   0   0   0   0   0   0   0   0-1.00\n",
      "   0   0   0   0   0   0   0 1.00   0\n",
      "\n",
      "\n",
      "Gy:QT = \n",
      "FullTPOp with shape (9, 9)\n",
      " 1.00   0   0   0   0   0   0   0   0\n",
      "   0-0.50-0.87   0   0   0   0   0   0\n",
      "   0-0.87 0.50   0   0   0   0   0   0\n",
      "   0   0   0   0   0   0   0-1.00   0\n",
      "   0   0   0   0   0   0 1.00   0   0\n",
      "   0   0   0   0   0 1.00   0   0   0\n",
      "   0   0   0   0-1.00   0   0   0   0\n",
      "   0   0   0 1.00   0   0   0   0   0\n",
      "   0   0   0   0   0   0   0   0-1.00\n",
      "\n",
      "\n",
      "Gm:QT = \n",
      "FullTPOp with shape (9, 9)\n",
      " 1.00   0   0   0   0   0   0   0   0\n",
      "   0 1.00   0   0   0   0   0   0   0\n",
      "   0   0 1.00   0   0   0   0   0   0\n",
      "   0   0   0 1.00   0   0   0   0   0\n",
      "   0   0   0   0 1.00   0   0   0   0\n",
      "   0   0   0   0   0   0   0   0-1.00\n",
      "   0   0   0   0   0   0   0 1.00   0\n",
      "   0   0   0   0   0   0-1.00   0   0\n",
      "   0   0   0   0   0 1.00   0   0   0\n",
      "\n",
      "\n",
      "\n",
      "\n"
     ]
    }
   ],
   "source": [
    "target_model = qutrit.create_qutrit_model(error_scale=0, x_angle=pi/2, y_angle=pi/2, ms_global=pi/2, ms_local=0, basis=\"qt\")\n",
    "#change the forward simulator for the purposes of experiment design code\n",
    "target_model.sim = 'matrix'\n",
    "print(target_model)"
   ]
  },
  {
   "cell_type": "code",
   "execution_count": 3,
   "metadata": {},
   "outputs": [
    {
     "data": {
      "text/plain": [
       "314"
      ]
     },
     "execution_count": 3,
     "metadata": {},
     "output_type": "execute_result"
    }
   ],
   "source": [
    "target_model.num_params"
   ]
  },
  {
   "cell_type": "markdown",
   "metadata": {},
   "source": [
    "Now construct the operation sequences needed by GST. Then we construct an empty dataset containing all of the necessary experimental sequences which can serve as a template for the actual experimental results."
   ]
  },
  {
   "cell_type": "code",
   "execution_count": 4,
   "metadata": {
    "tags": []
   },
   "outputs": [
    {
     "name": "stdout",
     "output_type": "stream",
     "text": [
      "Initial Length Available Fiducial List: 121\n",
      "Length Available Fiducial List Dropped Identities and Duplicates: 50\n",
      "Using greedy algorithm.\n",
      "Complete initial fiducial set succeeds.\n",
      "Now searching for best fiducial set.\n",
      "Starting fiducial list optimization. Lower score is better.\n",
      "Acceptable candidate solution found.\n",
      "Score: major=-9 minor=17.99999999999997, N: 9\n",
      "Exiting greedy search.\n",
      "Preparation fiducials:\n",
      "['{}@(QT)', 'Gm:QTGm:QT@(QT)', 'Gx:QT@(QT)', 'Gy:QT@(QT)', 'Gy:QTGy:QTGx:QT@(QT)', 'Gy:QTGy:QTGy:QT@(QT)', 'Gm:QT@(QT)', 'Gm:QTGx:QT@(QT)', 'Gm:QTGy:QT@(QT)']\n",
      "Score: 17.99999999999997\n",
      "Complete initial fiducial set succeeds.\n",
      "Now searching for best fiducial set.\n",
      "Starting fiducial list optimization. Lower score is better.\n",
      "Acceptable candidate solution found.\n",
      "Score: major=-9 minor=19.449999999999978, N: 9\n",
      "Exiting greedy search.\n",
      "Measurement fiducials:\n",
      "['{}@(QT)', 'Gx:QT@(QT)', 'Gy:QT@(QT)', 'Gm:QT@(QT)', 'Gy:QTGm:QT@(QT)', 'Gm:QTGx:QT@(QT)']\n",
      "Score: 19.449999999999978\n",
      "Initial Length Available Germ List: 90\n",
      "Length Available Germ List After Deduping: 39\n",
      "Length Available Germ List After Dropping Random Fraction: 39\n",
      "Length Available Germ List After Adding Back In Forced Germs: 39\n",
      "Memory estimate of 0.0 GB for all-Jac mode.\n",
      "Memory estimate of 0.0 GB for single-Jac mode.\n",
      "Using greedy algorithm.\n",
      "Constructed germ set:\n",
      "['Gi:QT@(QT)', 'Gx:QT@(QT)', 'Gy:QT@(QT)', 'Gm:QT@(QT)', 'Gx:QTGy:QTGy:QT@(QT)', 'Gy:QTGm:QTGm:QT@(QT)', 'Gx:QTGm:QT@(QT)', 'Gx:QTGm:QTGy:QT@(QT)', 'Gy:QTGm:QT@(QT)']\n",
      "Score: major=-218.0 minor=650.7883029775395, N: 218\n",
      "CPU times: total: 234 ms\n",
      "Wall time: 1.32 s\n"
     ]
    }
   ],
   "source": [
    "%%time\n",
    "fiducialPrep, fiducialMeasure = find_fiducials(target_model, candidate_fid_counts={4: 'all upto'}, algorithm= 'greedy')\n",
    "germs = find_germs(target_model, randomize=False, candidate_germ_counts={4: 'all upto'}, mode= 'compactEVD', assume_real=True, float_type=np.double)\n",
    "maxLengths = [1,2,4]"
   ]
  },
  {
   "cell_type": "code",
   "execution_count": 5,
   "metadata": {},
   "outputs": [
    {
     "name": "stdout",
     "output_type": "stream",
     "text": [
      "9 prep fiducials\n",
      "6 meas fiducials\n",
      "9 germs\n"
     ]
    }
   ],
   "source": [
    "print(\"%d prep fiducials\" % len(fiducialPrep))\n",
    "print(\"%d meas fiducials\" % len(fiducialMeasure))\n",
    "print(\"%d germs\" % len(germs))"
   ]
  },
  {
   "cell_type": "code",
   "execution_count": 6,
   "metadata": {},
   "outputs": [],
   "source": [
    "#generate data template\n",
    "expList = pygsti.circuits.create_lsgst_circuits(target_model.operations.keys(), fiducialPrep, fiducialMeasure, germs,  maxLengths)\n",
    "pygsti.io.write_empty_dataset(\"example_files/dataTemplate_qutrit_maxL=4.txt\", expList, \"## Columns = 0bright count, 1bright count, 2bright count\")"
   ]
  },
  {
   "cell_type": "markdown",
   "metadata": {},
   "source": [
    "At this point **STOP** and create/fill a dataset file using the template written in the above cell.  Then proceed with the lines below to run GST on the data and create (hopefully useful) reports telling you about your gates."
   ]
  },
  {
   "cell_type": "code",
   "execution_count": 15,
   "metadata": {},
   "outputs": [],
   "source": [
    "mdl_datagen = target_model.depolarize(op_noise=0.05, spam_noise = .01)\n",
    "DS = pygsti.data.simulate_data(mdl_datagen, expList, 1000, sample_error='multinomial', seed=2018)"
   ]
  },
  {
   "cell_type": "code",
   "execution_count": 13,
   "metadata": {},
   "outputs": [],
   "source": [
    "#DS = pygsti.io.load_dataset('PATH_TO_YOUR_DATASET',cache=True) # (cache=True speeds up future loads)"
   ]
  },
  {
   "cell_type": "code",
   "execution_count": 16,
   "metadata": {
    "scrolled": true
   },
   "outputs": [
    {
     "name": "stdout",
     "output_type": "stream",
     "text": [
      "--- Circuit Creation ---\n",
      "   774 circuits created\n",
      "   Dataset has 774 entries: 774 utilized, 0 requested circuits were missing\n",
      "-- Std Practice:  Iter 1 of 1  (CPTPLND) --: \n",
      "    Precomputing CircuitOutcomeProbabilityArray layouts for each iteration.\n",
      "    Layout for iteration 0\n",
      "    Layout creation w/mem limit = 3.00GB\n",
      "    MatrixLayout: 1 processors divided into 1 x 1 (= 1) grid along circuit and parameter directions.\n",
      "       1 atoms, parameter block size limits (None,)\n",
      "    *** Distributing 1 atoms to 1 atom-processing groups (1 cores) ***\n",
      "        More atom-processors than hosts: each host gets ~1 atom-processors\n",
      "        Atom-processors already occupy a single node, dividing atom-processor into 1 param-processors.\n",
      "    *** Divided 1-host atom-processor (~1 procs) into 1 param-processing groups ***\n",
      "       Esimated memory required = 0.1GB\n",
      "    Layout for iteration 1\n",
      "    Layout creation w/mem limit = 3.00GB\n",
      "    MatrixLayout: 1 processors divided into 1 x 1 (= 1) grid along circuit and parameter directions.\n",
      "       1 atoms, parameter block size limits (None,)\n",
      "    *** Distributing 1 atoms to 1 atom-processing groups (1 cores) ***\n",
      "        More atom-processors than hosts: each host gets ~1 atom-processors\n",
      "        Atom-processors already occupy a single node, dividing atom-processor into 1 param-processors.\n",
      "    *** Divided 1-host atom-processor (~1 procs) into 1 param-processing groups ***\n",
      "       Esimated memory required = 0.1GB\n",
      "    Layout for iteration 2\n",
      "    Layout creation w/mem limit = 3.00GB\n",
      "    MatrixLayout: 1 processors divided into 1 x 1 (= 1) grid along circuit and parameter directions.\n",
      "       1 atoms, parameter block size limits (None,)\n",
      "    *** Distributing 1 atoms to 1 atom-processing groups (1 cores) ***\n",
      "        More atom-processors than hosts: each host gets ~1 atom-processors\n",
      "        Atom-processors already occupy a single node, dividing atom-processor into 1 param-processors.\n",
      "    *** Divided 1-host atom-processor (~1 procs) into 1 param-processing groups ***\n",
      "       Esimated memory required = 0.2GB\n",
      "  --- Iterative GST: Iter 1 of 3  186 circuits ---: \n",
      "    --- chi2 GST ---\n",
      "    Sum of Chi^2 = 169.241 (372 data params - 432 (approx) model params = expected mean of -60; p-value = nan)\n",
      "    Completed in 30.5s\n",
      "    Iteration 1 took 30.7s\n",
      "    \n",
      "  --- Iterative GST: Iter 2 of 3  383 circuits ---: \n",
      "    --- chi2 GST ---\n"
     ]
    },
    {
     "name": "stderr",
     "output_type": "stream",
     "text": [
      "\n",
      "WARNING: Treating result as *converged* after maximum iterations (50) were exceeded.\n"
     ]
    },
    {
     "name": "stdout",
     "output_type": "stream",
     "text": [
      "    Sum of Chi^2 = 521.758 (766 data params - 432 (approx) model params = expected mean of 334; p-value = 2.03176e-10)\n",
      "    Completed in 46.8s\n",
      "    Iteration 2 took 46.8s\n",
      "    \n",
      "  --- Iterative GST: Iter 3 of 3  774 circuits ---: \n",
      "    --- chi2 GST ---\n"
     ]
    },
    {
     "name": "stderr",
     "output_type": "stream",
     "text": [
      "\n",
      "WARNING: Treating result as *converged* after maximum iterations (50) were exceeded.\n"
     ]
    },
    {
     "name": "stdout",
     "output_type": "stream",
     "text": [
      "    Sum of Chi^2 = 1322.7 (1548 data params - 432 (approx) model params = expected mean of 1116; p-value = 1.70083e-05)\n",
      "    Completed in 78.1s\n",
      "    Iteration 3 took 78.2s\n",
      "    \n",
      "    Last iteration:\n",
      "    --- dlogl GST ---\n"
     ]
    },
    {
     "name": "stderr",
     "output_type": "stream",
     "text": [
      "\n",
      "WARNING: Treating result as *converged* after maximum iterations (50) were exceeded.\n"
     ]
    },
    {
     "name": "stdout",
     "output_type": "stream",
     "text": [
      "    2*Delta(log(L)) = 1324.81 (1548 data params - 432 (approx) model params = expected mean of 1116; p-value = 1.42741e-05)\n",
      "    Completed in 17.2s\n",
      "    Final optimization took 17.2s\n",
      "    \n",
      "CPU times: total: 1min 25s\n",
      "Wall time: 2min 53s\n"
     ]
    }
   ],
   "source": [
    "%%time\n",
    "#Run qutrit GST... which could take a while onspam_noise=ingle CPU.  Please adjust memLimit to machine specs \n",
    "# (now 3GB; usually set to slightly less than the total machine memory)\n",
    "#Setting max_iterations lower than default for the sake of the example running faster. \n",
    "target_model.sim = \"matrix\"\n",
    "result = pygsti.run_stdpractice_gst(DS, target_model, fiducialPrep, fiducialMeasure, germs, maxLengths,\n",
    "                                    verbosity=3, comm=None, mem_limit=3*(1024)**3, modes=\"CPTPLND\",\n",
    "                                    advanced_options= {'max_iterations':50})"
   ]
  },
  {
   "cell_type": "code",
   "execution_count": 10,
   "metadata": {},
   "outputs": [
    {
     "name": "stdout",
     "output_type": "stream",
     "text": [
      "Running idle tomography\n",
      "Computing switchable properties\n"
     ]
    },
    {
     "name": "stderr",
     "output_type": "stream",
     "text": [
      "C:\\Users\\ciostro\\Documents\\pyGSTi_API_updates\\pygsti\\report\\factory.py:1284: UserWarning: Idle tomography failed:\n",
      "\n",
      "  _warnings.warn(\"Idle tomography failed:\\n\" + str(e))\n"
     ]
    }
   ],
   "source": [
    "#Create a report\n",
    "ws = pygsti.report.construct_standard_report(\n",
    "    result, \"Example Qutrit Report\", verbosity=3\n",
    ").write_html('example_files/sampleQutritReport', auto_open=False, verbosity=3)"
   ]
  },
  {
   "cell_type": "code",
   "execution_count": 11,
   "metadata": {},
   "outputs": [
    {
     "name": "stdout",
     "output_type": "stream",
     "text": [
      "rho0 = TPState with dimension 9\n",
      " 0.58-0.41   0   0   0   0 0.71   0   0\n",
      "\n",
      "\n",
      "Mdefault = TPPOVM with effect vectors:\n",
      "0bright: FullPOVMEffect with dimension 9\n",
      " 0.58-0.41   0   0   0   0 0.71   0   0\n",
      "\n",
      "1bright: FullPOVMEffect with dimension 9\n",
      " 0.58 0.82   0   0   0   0   0   0   0\n",
      "\n",
      "2bright: ComplementPOVMEffect with dimension 9\n",
      " 0.58-0.41   0   0   0   0-0.71   0   0\n",
      "\n",
      "\n",
      "\n",
      "Gi:QT = \n",
      "FullTPOp with shape (9, 9)\n",
      " 1.00   0   0   0   0   0   0   0   0\n",
      "   0 1.00   0   0   0   0   0   0   0\n",
      "   0   0 1.00   0   0   0   0   0   0\n",
      "   0   0   0 1.00   0   0   0   0   0\n",
      "   0   0   0   0 1.00   0   0   0   0\n",
      "   0   0   0   0   0 1.00   0   0   0\n",
      "   0   0   0   0   0   0 1.00   0   0\n",
      "   0   0   0   0   0   0   0 1.00   0\n",
      "   0   0   0   0   0   0   0   0 1.00\n",
      "\n",
      "\n",
      "Gx:QT = \n",
      "FullTPOp with shape (9, 9)\n",
      " 1.00   0   0   0   0   0   0   0   0\n",
      "   0-0.50 0.87   0   0   0   0   0   0\n",
      "   0 0.87 0.50   0   0   0   0   0   0\n",
      "   0   0   0-1.00   0   0   0   0   0\n",
      "   0   0   0   0 1.00   0   0   0   0\n",
      "   0   0   0   0   0   0-1.00   0   0\n",
      "   0   0   0   0   0 1.00   0   0   0\n",
      "   0   0   0   0   0   0   0   0-1.00\n",
      "   0   0   0   0   0   0   0 1.00   0\n",
      "\n",
      "\n",
      "Gy:QT = \n",
      "FullTPOp with shape (9, 9)\n",
      " 1.00   0   0   0   0   0   0   0   0\n",
      "   0-0.50-0.87   0   0   0   0   0   0\n",
      "   0-0.87 0.50   0   0   0   0   0   0\n",
      "   0   0   0   0   0   0   0-1.00   0\n",
      "   0   0   0   0   0   0 1.00   0   0\n",
      "   0   0   0   0   0 1.00   0   0   0\n",
      "   0   0   0   0-1.00   0   0   0   0\n",
      "   0   0   0 1.00   0   0   0   0   0\n",
      "   0   0   0   0   0   0   0   0-1.00\n",
      "\n",
      "\n",
      "Gm:QT = \n",
      "FullTPOp with shape (9, 9)\n",
      " 1.00   0   0   0   0   0   0   0   0\n",
      "   0 1.00   0   0   0   0   0   0   0\n",
      "   0   0 1.00   0   0   0   0   0   0\n",
      "   0   0   0 1.00   0   0   0   0   0\n",
      "   0   0   0   0 1.00   0   0   0   0\n",
      "   0   0   0   0   0   0   0   0-1.00\n",
      "   0   0   0   0   0   0   0 1.00   0\n",
      "   0   0   0   0   0   0-1.00   0   0\n",
      "   0   0   0   0   0 1.00   0   0   0\n",
      "\n",
      "\n",
      "\n",
      "\n"
     ]
    }
   ],
   "source": [
    "print(target_model)"
   ]
  },
  {
   "cell_type": "code",
   "execution_count": null,
   "metadata": {},
   "outputs": [],
   "source": []
  }
 ],
 "metadata": {
  "kernelspec": {
   "display_name": "api_updates",
   "language": "python",
   "name": "api_updates"
  },
  "language_info": {
   "codemirror_mode": {
    "name": "ipython",
    "version": 3
   },
   "file_extension": ".py",
   "mimetype": "text/x-python",
   "name": "python",
   "nbconvert_exporter": "python",
   "pygments_lexer": "ipython3",
   "version": "3.9.13"
  }
 },
 "nbformat": 4,
 "nbformat_minor": 4
}
