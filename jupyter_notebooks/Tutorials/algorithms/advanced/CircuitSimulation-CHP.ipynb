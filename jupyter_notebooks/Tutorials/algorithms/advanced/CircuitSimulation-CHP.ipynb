{
 "cells": [
  {
   "cell_type": "markdown",
   "metadata": {},
   "source": [
    "# PyGSTi CHP Object Test\n",
    "\n",
    "<font color='red'>This notebook is under construction and will have more description in the near future.</font>"
   ]
  },
  {
   "cell_type": "code",
   "execution_count": 1,
   "metadata": {},
   "outputs": [
    {
     "data": {
      "text/plain": [
       "'0.9.9.2.post917+g98710b31.d20210505'"
      ]
     },
     "execution_count": 1,
     "metadata": {},
     "output_type": "execute_result"
    }
   ],
   "source": [
    "from __future__ import print_function #python 2 & 3 compatibility\n",
    "import pygsti\n",
    "\n",
    "from pygsti.objects.operation import LinearOperator, StaticStandardOp, StochasticNoiseOp, DepolarizeOp, ComposedOp, EmbeddedOp\n",
    "from pygsti.objects.labeldicts import StateSpaceLabels\n",
    "pygsti.__version__"
   ]
  },
  {
   "cell_type": "markdown",
   "metadata": {},
   "source": [
    "## LinearOperator and StaticStandardOp\n",
    "\n",
    "Now with 'chp' evotype."
   ]
  },
  {
   "cell_type": "code",
   "execution_count": 2,
   "metadata": {},
   "outputs": [
    {
     "name": "stdout",
     "output_type": "stream",
     "text": [
      "StaticStandardOp with name Gxpi and evotype chp\n",
      "CHP operations: h 0,p 0,p 0,h 0\n",
      "\n",
      "h 0\n",
      "p 0\n",
      "p 0\n",
      "h 0\n",
      "\n",
      "h 2\n",
      "p 2\n",
      "p 2\n",
      "h 2\n",
      "\n"
     ]
    }
   ],
   "source": [
    "Gx = StaticStandardOp('Gxpi', 'chp')\n",
    "print(Gx)\n",
    "print(Gx.get_chp_str())\n",
    "print(Gx.get_chp_str([2]))"
   ]
  },
  {
   "cell_type": "code",
   "execution_count": 3,
   "metadata": {},
   "outputs": [],
   "source": [
    "# Can also make custom CHP operations\n",
    "# Here I'm making a (deterministic) Hadamard on qubit 0 and CNOT on qubits 1 and 2\n",
    "rep = pygsti.objects.replib.CHPOpRep(['h 0', 'c 1 2'], nqubits=3)\n",
    "c = LinearOperator(rep, 'chp')"
   ]
  },
  {
   "cell_type": "code",
   "execution_count": 4,
   "metadata": {},
   "outputs": [
    {
     "name": "stdout",
     "output_type": "stream",
     "text": [
      "<pygsti.objects.operation.LinearOperator object at 0x136044610>\n",
      "h 0\n",
      "c 1 2\n",
      "\n",
      "h 3\n",
      "c 4 5\n",
      "\n"
     ]
    }
   ],
   "source": [
    "print(c)\n",
    "print(c.get_chp_str())\n",
    "print(c.get_chp_str([3,4,5]))"
   ]
  },
  {
   "cell_type": "code",
   "execution_count": 5,
   "metadata": {},
   "outputs": [
    {
     "name": "stdout",
     "output_type": "stream",
     "text": [
      "StaticStandardOp with name Gc20 and evotype chp\n",
      "CHP operations: p 0,h 0,p 0,p 0,h 0\n",
      "\n"
     ]
    }
   ],
   "source": [
    "print(StaticStandardOp('Gc20', 'chp'))"
   ]
  },
  {
   "cell_type": "markdown",
   "metadata": {},
   "source": [
    "## StochasticNoiseOp and DepolarizeOp\n",
    "\n",
    "Now with 'chp' evotype"
   ]
  },
  {
   "cell_type": "code",
   "execution_count": 6,
   "metadata": {},
   "outputs": [
    {
     "name": "stdout",
     "output_type": "stream",
     "text": [
      "Stochastic noise operation map with dim = 2, num params = 3\n",
      "Rates: [0.5 0.1 0.1]\n",
      "\n",
      "p 1\n",
      "p 1\n",
      "\n",
      "\n",
      "h 3\n",
      "p 3\n",
      "p 3\n",
      "h 3\n",
      "\n",
      "h 4\n",
      "p 4\n",
      "p 4\n",
      "h 4\n",
      "\n"
     ]
    }
   ],
   "source": [
    "nqubits = 1\n",
    "scop = StochasticNoiseOp(2**nqubits, evotype='chp', initial_rates=[0.5, 0.1, 0.1], seed_or_state=2021)\n",
    "print(scop)\n",
    "print(scop.get_chp_str([1])) # With seed 2021, pulls Z\n",
    "print(scop.get_chp_str([2])) # With seed 2021, pulls I (no output)\n",
    "print(scop.get_chp_str([3])) # With seed 2021, pulls X\n",
    "print(scop.get_chp_str([4])) # With seed 2021, pulls X"
   ]
  },
  {
   "cell_type": "code",
   "execution_count": 7,
   "metadata": {},
   "outputs": [
    {
     "name": "stdout",
     "output_type": "stream",
     "text": [
      "Depolarize noise operation map with dim = 2, num params = 1\n",
      "Strength: [0.7]\n",
      "\n",
      "p 1\n",
      "p 1\n",
      "\n",
      "\n",
      "h 3\n",
      "p 3\n",
      "p 3\n",
      "h 3\n",
      "\n",
      "p 4\n",
      "h 4\n",
      "p 4\n",
      "p 4\n",
      "h 4\n",
      "p 4\n",
      "p 4\n",
      "p 4\n",
      "\n"
     ]
    }
   ],
   "source": [
    "nqubits = 1\n",
    "dop = DepolarizeOp(2**nqubits, evotype='chp', initial_rate=0.7, seed_or_state=2021)\n",
    "print(dop)\n",
    "print(dop.get_chp_str([1])) # With seed 2021, pulls Z\n",
    "print(dop.get_chp_str([2])) # With seed 2021, pulls I (no output)\n",
    "print(dop.get_chp_str([3])) # With seed 2021, pulls X\n",
    "print(dop.get_chp_str([4])) # With seed 2021, pulls Y"
   ]
  },
  {
   "cell_type": "markdown",
   "metadata": {},
   "source": [
    "## ComposedOp + EmbeddedOp"
   ]
  },
  {
   "cell_type": "code",
   "execution_count": 8,
   "metadata": {},
   "outputs": [
    {
     "name": "stdout",
     "output_type": "stream",
     "text": [
      "Composed operation of 2 factors:\n",
      "Factor 0:\n",
      "StaticStandardOp with name Gzpi and evotype chp\n",
      "CHP operations: p 0,p 0\n",
      "Factor 1:\n",
      "StaticStandardOp with name Gxpi and evotype chp\n",
      "CHP operations: h 0,p 0,p 0,h 0\n",
      "\n",
      "p 0\n",
      "p 0\n",
      "h 0\n",
      "p 0\n",
      "p 0\n",
      "h 0\n",
      "\n",
      "p 2\n",
      "p 2\n",
      "h 2\n",
      "p 2\n",
      "p 2\n",
      "h 2\n",
      "\n"
     ]
    }
   ],
   "source": [
    "# ComposedOp\n",
    "Gzx_composed = ComposedOp([StaticStandardOp('Gzpi', 'chp'), StaticStandardOp('Gxpi', 'chp')])\n",
    "print(Gzx_composed)\n",
    "print(Gzx_composed.get_chp_str())\n",
    "print(Gzx_composed.get_chp_str([2]))"
   ]
  },
  {
   "cell_type": "code",
   "execution_count": 9,
   "metadata": {},
   "outputs": [
    {
     "name": "stdout",
     "output_type": "stream",
     "text": [
      "Embedded operation with full dimension 4 and state space Q0(2)*Q1(2)\n",
      " that embeds the following 2-dimensional operation into acting on the ['Q0'] space\n",
      "StaticStandardOp with name Gxpi and evotype chp\n",
      "CHP operations: h 0,p 0,p 0,h 0\n",
      "\n",
      "h 0\n",
      "p 0\n",
      "p 0\n",
      "h 0\n",
      "\n",
      "h 5\n",
      "p 5\n",
      "p 5\n",
      "h 5\n",
      "\n"
     ]
    }
   ],
   "source": [
    "# EmbeddedOp\n",
    "Gxi_embedded = EmbeddedOp(['Q0', 'Q1'], ['Q0'], StaticStandardOp('Gxpi', 'chp'))\n",
    "print(Gxi_embedded)\n",
    "print(Gxi_embedded.get_chp_str())\n",
    "print(Gxi_embedded.get_chp_str([5,7]))"
   ]
  },
  {
   "cell_type": "code",
   "execution_count": 10,
   "metadata": {},
   "outputs": [
    {
     "name": "stdout",
     "output_type": "stream",
     "text": [
      "Embedded operation with full dimension 4 and state space Q0(2)*Q1(2)\n",
      " that embeds the following 2-dimensional operation into acting on the ['Q1'] space\n",
      "StaticStandardOp with name Gxpi and evotype chp\n",
      "CHP operations: h 0,p 0,p 0,h 0\n",
      "\n",
      "h 1\n",
      "p 1\n",
      "p 1\n",
      "h 1\n",
      "\n",
      "h 7\n",
      "p 7\n",
      "p 7\n",
      "h 7\n",
      "\n"
     ]
    }
   ],
   "source": [
    "Gix_embedded = EmbeddedOp(['Q0', 'Q1'], ['Q1'], StaticStandardOp('Gxpi', 'chp'))\n",
    "print(Gix_embedded)\n",
    "print(Gix_embedded.get_chp_str())\n",
    "print(Gix_embedded.get_chp_str([5,7]))"
   ]
  },
  {
   "cell_type": "code",
   "execution_count": 11,
   "metadata": {},
   "outputs": [
    {
     "name": "stdout",
     "output_type": "stream",
     "text": [
      "Embedded operation with full dimension 16 and state space Q0(2)*Q1(2)*Q2(2)*Q3(2)\n",
      " that embeds the following 2-dimensional operation into acting on the ['Q1'] space\n",
      "Composed operation of 2 factors:\n",
      "Factor 0:\n",
      "StaticStandardOp with name Gzpi and evotype chp\n",
      "CHP operations: p 0,p 0\n",
      "Factor 1:\n",
      "StaticStandardOp with name Gxpi and evotype chp\n",
      "CHP operations: h 0,p 0,p 0,h 0\n",
      "\n",
      "p 1\n",
      "p 1\n",
      "h 1\n",
      "p 1\n",
      "p 1\n",
      "h 1\n",
      "\n",
      "p 6\n",
      "p 6\n",
      "h 6\n",
      "p 6\n",
      "p 6\n",
      "h 6\n",
      "\n"
     ]
    }
   ],
   "source": [
    "# EmbeddedOp made of ComposedOps\n",
    "Gzx_comp_embed = EmbeddedOp(['Q0', 'Q1', 'Q2', 'Q3'], ['Q1'], Gzx_composed)\n",
    "print(Gzx_comp_embed)\n",
    "print(Gzx_comp_embed.get_chp_str())\n",
    "print(Gzx_comp_embed.get_chp_str([5, 6, 7, 8]))"
   ]
  },
  {
   "cell_type": "markdown",
   "metadata": {},
   "source": [
    "## CHPForwardSimulator + Explicit Model"
   ]
  },
  {
   "cell_type": "code",
   "execution_count": 12,
   "metadata": {},
   "outputs": [],
   "source": [
    "chpexe = '/Users/sserita/Documents/notebooks/pyGSTi/2021-CHP/chp'\n",
    "sim = pygsti.obj.CHPForwardSimulator(chpexe, shots=100)"
   ]
  },
  {
   "cell_type": "code",
   "execution_count": 13,
   "metadata": {},
   "outputs": [
    {
     "name": "stdout",
     "output_type": "stream",
     "text": [
      "rho0 = Composed operation of 2 factors:\n",
      "Factor 0:\n",
      "Embedded operation with full dimension 4 and state space Q0(2)*Q1(2)\n",
      " that embeds the following 2-dimensional operation into acting on the ['Q0'] space\n",
      "StaticStandardOp with name Gi and evotype chp\n",
      "CHP operations: \n",
      "Factor 1:\n",
      "Embedded operation with full dimension 4 and state space Q0(2)*Q1(2)\n",
      " that embeds the following 2-dimensional operation into acting on the ['Q1'] space\n",
      "StaticStandardOp with name Gi and evotype chp\n",
      "CHP operations: \n",
      "\n",
      "\n",
      "Mdefault = Computational(Z)-basis POVM on 2 qubits and filter None\n",
      "\n",
      "\n",
      "Gii = \n",
      "Composed operation of 2 factors:\n",
      "Factor 0:\n",
      "Embedded operation with full dimension 4 and state space Q0(2)*Q1(2)\n",
      " that embeds the following 2-dimensional operation into acting on the ['Q0'] space\n",
      "StaticStandardOp with name Gi and evotype chp\n",
      "CHP operations: \n",
      "Factor 1:\n",
      "Embedded operation with full dimension 4 and state space Q0(2)*Q1(2)\n",
      " that embeds the following 2-dimensional operation into acting on the ['Q1'] space\n",
      "StaticStandardOp with name Gi and evotype chp\n",
      "CHP operations: \n",
      "\n",
      "\n",
      "Gxi = \n",
      "Composed operation of 2 factors:\n",
      "Factor 0:\n",
      "Embedded operation with full dimension 4 and state space Q0(2)*Q1(2)\n",
      " that embeds the following 2-dimensional operation into acting on the ['Q0'] space\n",
      "StaticStandardOp with name Gxpi and evotype chp\n",
      "CHP operations: h 0,p 0,p 0,h 0\n",
      "Factor 1:\n",
      "Embedded operation with full dimension 4 and state space Q0(2)*Q1(2)\n",
      " that embeds the following 2-dimensional operation into acting on the ['Q1'] space\n",
      "StaticStandardOp with name Gi and evotype chp\n",
      "CHP operations: \n",
      "\n",
      "\n",
      "Gix = \n",
      "Composed operation of 2 factors:\n",
      "Factor 0:\n",
      "Embedded operation with full dimension 4 and state space Q0(2)*Q1(2)\n",
      " that embeds the following 2-dimensional operation into acting on the ['Q0'] space\n",
      "StaticStandardOp with name Gi and evotype chp\n",
      "CHP operations: \n",
      "Factor 1:\n",
      "Embedded operation with full dimension 4 and state space Q0(2)*Q1(2)\n",
      " that embeds the following 2-dimensional operation into acting on the ['Q1'] space\n",
      "StaticStandardOp with name Gxpi and evotype chp\n",
      "CHP operations: h 0,p 0,p 0,h 0\n",
      "\n",
      "\n",
      "Gxx = \n",
      "Composed operation of 2 factors:\n",
      "Factor 0:\n",
      "Embedded operation with full dimension 4 and state space Q0(2)*Q1(2)\n",
      " that embeds the following 2-dimensional operation into acting on the ['Q0'] space\n",
      "StaticStandardOp with name Gxpi and evotype chp\n",
      "CHP operations: h 0,p 0,p 0,h 0\n",
      "Factor 1:\n",
      "Embedded operation with full dimension 4 and state space Q0(2)*Q1(2)\n",
      " that embeds the following 2-dimensional operation into acting on the ['Q1'] space\n",
      "StaticStandardOp with name Gxpi and evotype chp\n",
      "CHP operations: h 0,p 0,p 0,h 0\n",
      "\n",
      "\n",
      "Gyi = \n",
      "Composed operation of 2 factors:\n",
      "Factor 0:\n",
      "Embedded operation with full dimension 4 and state space Q0(2)*Q1(2)\n",
      " that embeds the following 2-dimensional operation into acting on the ['Q0'] space\n",
      "StaticStandardOp with name Gypi and evotype chp\n",
      "CHP operations: p 0,h 0,p 0,p 0,h 0,p 0,p 0,p 0\n",
      "Factor 1:\n",
      "Embedded operation with full dimension 4 and state space Q0(2)*Q1(2)\n",
      " that embeds the following 2-dimensional operation into acting on the ['Q1'] space\n",
      "StaticStandardOp with name Gi and evotype chp\n",
      "CHP operations: \n",
      "\n",
      "\n",
      "Giy = \n",
      "Composed operation of 2 factors:\n",
      "Factor 0:\n",
      "Embedded operation with full dimension 4 and state space Q0(2)*Q1(2)\n",
      " that embeds the following 2-dimensional operation into acting on the ['Q0'] space\n",
      "StaticStandardOp with name Gi and evotype chp\n",
      "CHP operations: \n",
      "Factor 1:\n",
      "Embedded operation with full dimension 4 and state space Q0(2)*Q1(2)\n",
      " that embeds the following 2-dimensional operation into acting on the ['Q1'] space\n",
      "StaticStandardOp with name Gypi and evotype chp\n",
      "CHP operations: p 0,h 0,p 0,p 0,h 0,p 0,p 0,p 0\n",
      "\n",
      "\n",
      "Gyy = \n",
      "Composed operation of 2 factors:\n",
      "Factor 0:\n",
      "Embedded operation with full dimension 4 and state space Q0(2)*Q1(2)\n",
      " that embeds the following 2-dimensional operation into acting on the ['Q0'] space\n",
      "StaticStandardOp with name Gypi and evotype chp\n",
      "CHP operations: p 0,h 0,p 0,p 0,h 0,p 0,p 0,p 0\n",
      "Factor 1:\n",
      "Embedded operation with full dimension 4 and state space Q0(2)*Q1(2)\n",
      " that embeds the following 2-dimensional operation into acting on the ['Q1'] space\n",
      "StaticStandardOp with name Gypi and evotype chp\n",
      "CHP operations: p 0,h 0,p 0,p 0,h 0,p 0,p 0,p 0\n",
      "\n",
      "\n",
      "\n",
      "\n"
     ]
    }
   ],
   "source": [
    "#Initialize an empty Model object\n",
    "model = pygsti.objects.ExplicitOpModel(['Q0', 'Q1'], simulator=sim, evotype='chp')\n",
    "\n",
    "def make_2Q_op(name0, name1):\n",
    "    return ComposedOp([\n",
    "        EmbeddedOp(['Q0', 'Q1'], ['Q0'], StaticStandardOp(name0, 'chp')),\n",
    "        EmbeddedOp(['Q0', 'Q1'], ['Q1'], StaticStandardOp(name1, 'chp')),\n",
    "    ])\n",
    "\n",
    "#Populate the Model object with states, effects, gates,\n",
    "model['rho0'] = make_2Q_op('Gi', 'Gi')\n",
    "model['Mdefault'] = pygsti.obj.ComputationalBasisPOVM(2, 'chp')\n",
    "\n",
    "model['Gii'] = make_2Q_op('Gi', 'Gi')\n",
    "model['Gxi'] = make_2Q_op('Gxpi', 'Gi')\n",
    "model['Gix'] = make_2Q_op('Gi', 'Gxpi')\n",
    "model['Gxx'] = make_2Q_op('Gxpi', 'Gxpi')\n",
    "model['Gyi'] = make_2Q_op('Gypi', 'Gi')\n",
    "model['Giy'] = make_2Q_op('Gi', 'Gypi')\n",
    "model['Gyy'] = make_2Q_op('Gypi', 'Gypi')\n",
    "\n",
    "print(model)"
   ]
  },
  {
   "cell_type": "code",
   "execution_count": 14,
   "metadata": {},
   "outputs": [
    {
     "data": {
      "text/plain": [
       "OutcomeLabelDict([(('01',), 1.0000000000000007)])"
      ]
     },
     "execution_count": 14,
     "metadata": {},
     "output_type": "execute_result"
    }
   ],
   "source": [
    "circ = pygsti.obj.Circuit(['Gix'])\n",
    "model.probabilities(circ)"
   ]
  },
  {
   "cell_type": "code",
   "execution_count": 15,
   "metadata": {},
   "outputs": [
    {
     "data": {
      "text/plain": [
       "OutcomeLabelDict([(('11',), 1.0000000000000007)])"
      ]
     },
     "execution_count": 15,
     "metadata": {},
     "output_type": "execute_result"
    }
   ],
   "source": [
    "circ = pygsti.obj.Circuit(['Gix', 'Gxi'])\n",
    "model.probabilities(circ)"
   ]
  },
  {
   "cell_type": "code",
   "execution_count": 16,
   "metadata": {},
   "outputs": [
    {
     "data": {
      "text/plain": [
       "OutcomeLabelDict([(('11',), 1.0000000000000007)])"
      ]
     },
     "execution_count": 16,
     "metadata": {},
     "output_type": "execute_result"
    }
   ],
   "source": [
    "circ = pygsti.obj.Circuit(['rho0', 'Gxx', 'Mdefault'])\n",
    "model.probabilities(circ)"
   ]
  },
  {
   "cell_type": "markdown",
   "metadata": {},
   "source": [
    "## CHPForwardSimulator + LocalNoiseModel"
   ]
  },
  {
   "cell_type": "code",
   "execution_count": 17,
   "metadata": {},
   "outputs": [],
   "source": [
    "# Step 1: Define stochastic Pauli noise operators\n",
    "# Note that the probabilities here are the \"error rates\" that would be model parameters (currently just static)\n",
    "noise_1q = StochasticNoiseOp(2, evotype='chp', initial_rates=[0.1, 0.01, 0.01], seed_or_state=2021)\n",
    "\n",
    "# Also need two-qubit version\n",
    "# Here we just make it independent stochastic Pauli noise\n",
    "noise_2q = ComposedOp([EmbeddedOp([0, 1], [0], noise_1q), EmbeddedOp([0, 1], [1], noise_1q)])"
   ]
  },
  {
   "cell_type": "code",
   "execution_count": 18,
   "metadata": {},
   "outputs": [],
   "source": [
    "# Step 2: Define gate dict of noisy gates\n",
    "# Using equivalent of XYICNOT modelpack\n",
    "gatedict = {}\n",
    "gatedict['Gi'] = noise_1q\n",
    "gatedict['Gx'] = ComposedOp([StaticStandardOp('Gxpi', 'chp'), noise_1q])\n",
    "gatedict['Gy'] = ComposedOp([StaticStandardOp('Gypi', 'chp'), noise_1q])\n",
    "# Note that first Gcnot is now key in model, whereas second Gcnot is a standard gatename known to CHPOp constructor\n",
    "gatedict['Gcnot'] = ComposedOp([StaticStandardOp('Gcnot', 'chp'), noise_2q])"
   ]
  },
  {
   "cell_type": "code",
   "execution_count": 19,
   "metadata": {},
   "outputs": [],
   "source": [
    "from pygsti.objects.localnoisemodel import LocalNoiseModel\n",
    "from pygsti.objects.spamvec import ComputationalSPAMVec\n",
    "\n",
    "# TODO: Much less convenient to generate parallel gates\n",
    "rho0 = ComposedOp([EmbeddedOp(range(3), [i], StaticStandardOp('Gi', 'chp')) for i in range(3)])\n",
    "Mdefault = pygsti.obj.ComputationalBasisPOVM(4, 'chp')\n",
    "\n",
    "\n",
    "\n",
    "\n",
    "ln_model = LocalNoiseModel(num_qubits=4, gatedict=gatedict, prep_layers=rho0, povm_layers=Mdefault,\n",
    "                           availability={'Gcnot': [(0,1),(1,2),(2,3)]}, simulator=sim, evotype='chp')"
   ]
  },
  {
   "cell_type": "code",
   "execution_count": 20,
   "metadata": {},
   "outputs": [
    {
     "name": "stdout",
     "output_type": "stream",
     "text": [
      "State prep building blocks (.prep_blks):\n",
      " layers :  rho0\n",
      "\n",
      "POVM building blocks (.povm_blks):\n",
      " layers :  Mdefault\n",
      "\n",
      "Operation building blocks (.operation_blks):\n",
      " layers :  Gi:0, Gi:1, Gi:2, Gi:3, Gx:0, Gx:1, Gx:2, Gx:3, Gy:0, Gy:1, Gy:2, Gy:3, Gcnot:0:1, Gcnot:1:2, Gcnot:2:3\n",
      " gates :  Gi, Gx, Gy, Gcnot\n",
      "\n"
     ]
    }
   ],
   "source": [
    "# Step 4: Profit?? Worked way too quickly...\n",
    "def print_implicit_model_blocks(mdl, showSPAM=False):\n",
    "    if showSPAM:\n",
    "        print('State prep building blocks (.prep_blks):')\n",
    "        for blk_lbl,blk in mdl.prep_blks.items():\n",
    "            print(\" \" + blk_lbl, \": \", ', '.join(map(str,blk.keys())))\n",
    "        print()\n",
    "\n",
    "        print('POVM building blocks (.povm_blks):')\n",
    "        for blk_lbl,blk in mdl.povm_blks.items():\n",
    "            print(\" \"  + blk_lbl, \": \", ', '.join(map(str,blk.keys())))\n",
    "        print()\n",
    "    \n",
    "    print('Operation building blocks (.operation_blks):')\n",
    "    for blk_lbl,blk in mdl.operation_blks.items():\n",
    "        print(\" \" + blk_lbl, \": \", ', '.join(map(str,blk.keys())))\n",
    "    print()\n",
    "\n",
    "print_implicit_model_blocks(ln_model, showSPAM=True)"
   ]
  },
  {
   "cell_type": "code",
   "execution_count": 21,
   "metadata": {},
   "outputs": [
    {
     "name": "stdout",
     "output_type": "stream",
     "text": [
      "Composed operation of 2 factors:\n",
      "Factor 0:\n",
      "StaticStandardOp with name Gxpi and evotype chp\n",
      "CHP operations: h 0,p 0,p 0,h 0\n",
      "Factor 1:\n",
      "Stochastic noise operation map with dim = 2, num params = 3\n",
      "Rates: [0.1  0.01 0.01]\n",
      "\n"
     ]
    }
   ],
   "source": [
    "print(ln_model.operation_blks['gates']['Gx'])"
   ]
  },
  {
   "cell_type": "code",
   "execution_count": 22,
   "metadata": {},
   "outputs": [
    {
     "name": "stdout",
     "output_type": "stream",
     "text": [
      "Embedded operation with full dimension 16 and state space 0(2)*1(2)*2(2)*3(2)\n",
      " that embeds the following 4-dimensional operation into acting on the (1, 2) space\n",
      "Composed operation of 2 factors:\n",
      "Factor 0:\n",
      "StaticStandardOp with name Gcnot and evotype chp\n",
      "CHP operations: c 0 1\n",
      "Factor 1:\n",
      "Composed operation of 2 factors:\n",
      "Factor 0:\n",
      "Embedded operation with full dimension 4 and state space 0(2)*1(2)\n",
      " that embeds the following 2-dimensional operation into acting on the [0] space\n",
      "Stochastic noise operation map with dim = 2, num params = 3\n",
      "Rates: [0.1  0.01 0.01]\n",
      "Factor 1:\n",
      "Embedded operation with full dimension 4 and state space 0(2)*1(2)\n",
      " that embeds the following 2-dimensional operation into acting on the [1] space\n",
      "Stochastic noise operation map with dim = 2, num params = 3\n",
      "Rates: [0.1  0.01 0.01]\n",
      "\n"
     ]
    }
   ],
   "source": [
    "print(ln_model.operation_blks['layers']['Gcnot', 1, 2])"
   ]
  },
  {
   "cell_type": "code",
   "execution_count": 23,
   "metadata": {},
   "outputs": [
    {
     "data": {
      "text/plain": [
       "OutcomeLabelDict([(('0100',), 0.9300000000000006), (('0000',), 0.07)])"
      ]
     },
     "execution_count": 23,
     "metadata": {},
     "output_type": "execute_result"
    }
   ],
   "source": [
    "# Step 5: Actually run circuits with local noise model\n",
    "# TODO: Marginalized POVMs don't work yet, must specify num_lines as full space\n",
    "circ = pygsti.obj.Circuit([('Gx', 1)], num_lines=4)\n",
    "ln_model.probabilities(circ)"
   ]
  },
  {
   "cell_type": "code",
   "execution_count": 24,
   "metadata": {},
   "outputs": [
    {
     "data": {
      "text/plain": [
       "OutcomeLabelDict([(('0110',), 0.7600000000000005),\n",
       "                  (('0010',), 0.08),\n",
       "                  (('0000',), 0.060000000000000005),\n",
       "                  (('0100',), 0.09999999999999999)])"
      ]
     },
     "execution_count": 24,
     "metadata": {},
     "output_type": "execute_result"
    }
   ],
   "source": [
    "circ = pygsti.obj.Circuit([('Gx', 1), ('Gcnot', 1, 2)], num_lines=4)\n",
    "ln_model.probabilities(circ)"
   ]
  },
  {
   "cell_type": "code",
   "execution_count": 25,
   "metadata": {},
   "outputs": [],
   "source": [
    "# Could also define correlated noise for 2-qubit error?\n",
    "pp = pygsti.objects.Basis.cast('pp', 16)\n",
    "rates_2q = [0.01,]*15\n",
    "rates_2q[pp.labels.index('XX')] = 0.1 # Set XX to much higher\n",
    "\n",
    "noise_2q_correlated = StochasticNoiseOp(4, evotype='chp', initial_rates=rates_2q, seed_or_state=2021)\n",
    "\n",
    "gatedict = {}\n",
    "gatedict['Gi'] = noise_1q\n",
    "gatedict['Gx'] = ComposedOp([StaticStandardOp('Gxpi', 'chp'), noise_1q])\n",
    "gatedict['Gy'] = ComposedOp([StaticStandardOp('Gypi', 'chp'), noise_1q])\n",
    "# Note that first Gcnot is now key in model, whereas second Gcnot is a standard gatename known to CHPOp constructor\n",
    "gatedict['Gcnot'] = ComposedOp([StaticStandardOp('Gcnot', 'chp'), noise_2q_correlated])"
   ]
  },
  {
   "cell_type": "code",
   "execution_count": 26,
   "metadata": {},
   "outputs": [],
   "source": [
    "rho0 = ComposedOp([EmbeddedOp(range(3), [i], StaticStandardOp('Gi', 'chp')) for i in range(3)])\n",
    "Mdefault = pygsti.obj.ComputationalBasisPOVM(4, 'chp')\n",
    "\n",
    "chpexe = '/Users/sserita/Documents/notebooks/pyGSTi/2021-CHP/chp'\n",
    "sim = pygsti.obj.CHPForwardSimulator(chpexe, shots=100)\n",
    "\n",
    "ln_model_corr = LocalNoiseModel(num_qubits=4, gatedict=gatedict, prep_layers=rho0, povm_layers=Mdefault,\n",
    "                           availability={'Gcnot': [(0,1),(1,2),(2,3)]}, simulator=sim, evotype='chp')"
   ]
  },
  {
   "cell_type": "code",
   "execution_count": 27,
   "metadata": {},
   "outputs": [
    {
     "name": "stdout",
     "output_type": "stream",
     "text": [
      "Embedded operation with full dimension 16 and state space 0(2)*1(2)*2(2)*3(2)\n",
      " that embeds the following 4-dimensional operation into acting on the (1, 2) space\n",
      "Composed operation of 2 factors:\n",
      "Factor 0:\n",
      "StaticStandardOp with name Gcnot and evotype chp\n",
      "CHP operations: c 0 1\n",
      "Factor 1:\n",
      "Stochastic noise operation map with dim = 4, num params = 15\n",
      "Rates: [0.01 0.01 0.01 0.01 0.01 0.1  0.01 0.01 0.01 0.01 0.01 0.01 0.01 0.01\n",
      " 0.01]\n",
      "\n"
     ]
    }
   ],
   "source": [
    "# Now the CNOT gates have a 2-qubit stochastic gate instead of independent 1-qubit ones\n",
    "print(ln_model_corr.operation_blks['layers']['Gcnot', 1, 2])"
   ]
  },
  {
   "cell_type": "code",
   "execution_count": 28,
   "metadata": {},
   "outputs": [
    {
     "data": {
      "text/plain": [
       "OutcomeLabelDict([(('0100',), 0.9100000000000006), (('0000',), 0.09)])"
      ]
     },
     "execution_count": 28,
     "metadata": {},
     "output_type": "execute_result"
    }
   ],
   "source": [
    "circ = pygsti.obj.Circuit([('Gx', 1)], num_lines=4)\n",
    "ln_model_corr.probabilities(circ)"
   ]
  },
  {
   "cell_type": "code",
   "execution_count": 29,
   "metadata": {},
   "outputs": [
    {
     "data": {
      "text/plain": [
       "OutcomeLabelDict([(('0110',), 0.7500000000000004),\n",
       "                  (('0000',), 0.23000000000000007),\n",
       "                  (('0010',), 0.02)])"
      ]
     },
     "execution_count": 29,
     "metadata": {},
     "output_type": "execute_result"
    }
   ],
   "source": [
    "circ = pygsti.obj.Circuit([('Gx', 1), ('Gcnot', 1, 2)], num_lines=4)\n",
    "ln_model_corr.probabilities(circ)"
   ]
  },
  {
   "cell_type": "markdown",
   "metadata": {},
   "source": [
    "## Crosstalk-Free Model Construction"
   ]
  },
  {
   "cell_type": "code",
   "execution_count": 30,
   "metadata": {},
   "outputs": [
    {
     "name": "stdout",
     "output_type": "stream",
     "text": [
      "State prep building blocks (.prep_blks):\n",
      " layers :  rho0\n",
      "\n",
      "POVM building blocks (.povm_blks):\n",
      " layers :  Mdefault\n",
      "\n",
      "Operation building blocks (.operation_blks):\n",
      " layers :  Gypi:0, Gypi:1, Gypi:2, Gypi:3, Gi:0, Gi:1, Gi:2, Gi:3, Gcnot:0:1, Gcnot:1:2, Gcnot:2:3, Gxpi:0, Gxpi:1, Gxpi:2, Gxpi:3\n",
      " gates :  Gypi, Gi, Gcnot, Gxpi\n",
      "\n"
     ]
    }
   ],
   "source": [
    "import pygsti.construction.modelconstruction as mc\n",
    "\n",
    "chpexe = '/Users/sserita/Documents/notebooks/pyGSTi/2021-CHP/chp'\n",
    "sim = pygsti.obj.CHPForwardSimulator(chpexe, shots=100)\n",
    "\n",
    "# Use the same 2-qubit stochastic noise for CNOT as above\n",
    "ctf_model = mc.create_crosstalk_free_model(4, ['Gi', 'Gxpi', 'Gypi', 'Gcnot'],\n",
    "    depolarization_strengths={'Gi': 0.1, 'Gxpi': 0.1},\n",
    "    stochastic_error_probs={'Gypi': [0.1, 0.1, 0.1], 'Gcnot': rates_2q},\n",
    "    availability={'Gcnot': [(0,1),(1,2),(2,3)]}, simulator=sim, evotype='chp')\n",
    "\n",
    "print_implicit_model_blocks(ctf_model, showSPAM=True)"
   ]
  },
  {
   "cell_type": "code",
   "execution_count": 31,
   "metadata": {},
   "outputs": [
    {
     "name": "stdout",
     "output_type": "stream",
     "text": [
      "Gate Gypi\n",
      "Composed operation of 2 factors:\n",
      "Factor 0:\n",
      "StaticStandardOp with name Gypi and evotype chp\n",
      "CHP operations: p 0,h 0,p 0,p 0,h 0,p 0,p 0,p 0\n",
      "Factor 1:\n",
      "Stochastic noise operation map with dim = 2, num params = 3\n",
      "Rates: [0.1 0.1 0.1]\n",
      "\n",
      "\n",
      "Gate Gi\n",
      "Composed operation of 2 factors:\n",
      "Factor 0:\n",
      "StaticStandardOp with name Gi and evotype chp\n",
      "CHP operations: \n",
      "Factor 1:\n",
      "Depolarize noise operation map with dim = 2, num params = 1\n",
      "Strength: [0.1]\n",
      "\n",
      "\n",
      "Gate Gcnot\n",
      "Composed operation of 2 factors:\n",
      "Factor 0:\n",
      "StaticStandardOp with name Gcnot and evotype chp\n",
      "CHP operations: c 0 1\n",
      "Factor 1:\n",
      "Stochastic noise operation map with dim = 4, num params = 15\n",
      "Rates: [0.01 0.01 0.01 0.01 0.01 0.1  0.01 0.01 0.01 0.01 0.01 0.01 0.01 0.01\n",
      " 0.01]\n",
      "\n",
      "\n",
      "Gate Gxpi\n",
      "Composed operation of 2 factors:\n",
      "Factor 0:\n",
      "StaticStandardOp with name Gxpi and evotype chp\n",
      "CHP operations: h 0,p 0,p 0,h 0\n",
      "Factor 1:\n",
      "Depolarize noise operation map with dim = 2, num params = 1\n",
      "Strength: [0.1]\n",
      "\n",
      "\n"
     ]
    }
   ],
   "source": [
    "for name, gate in ctf_model.operation_blks['gates'].items():\n",
    "    print(f'Gate {name}')\n",
    "    print(gate)\n",
    "    print()"
   ]
  },
  {
   "cell_type": "code",
   "execution_count": 32,
   "metadata": {},
   "outputs": [
    {
     "data": {
      "text/plain": [
       "OutcomeLabelDict([(('0100',), 0.9600000000000006), (('0000',), 0.04)])"
      ]
     },
     "execution_count": 32,
     "metadata": {},
     "output_type": "execute_result"
    }
   ],
   "source": [
    "circ = pygsti.obj.Circuit([('Gxpi', 1)], num_lines=4)\n",
    "ctf_model.probabilities(circ)"
   ]
  },
  {
   "cell_type": "code",
   "execution_count": 33,
   "metadata": {},
   "outputs": [
    {
     "data": {
      "text/plain": [
       "OutcomeLabelDict([(('0010',), 0.08),\n",
       "                  (('0000',), 0.16),\n",
       "                  (('0110',), 0.7200000000000004),\n",
       "                  (('0100',), 0.04)])"
      ]
     },
     "execution_count": 33,
     "metadata": {},
     "output_type": "execute_result"
    }
   ],
   "source": [
    "circ = pygsti.obj.Circuit([('Gxpi', 1), ('Gcnot', 1, 2)], num_lines=4)\n",
    "ctf_model.probabilities(circ)"
   ]
  },
  {
   "cell_type": "code",
   "execution_count": 34,
   "metadata": {},
   "outputs": [
    {
     "data": {
      "text/plain": [
       "OutcomeLabelDict([(('11',), 0.6800000000000004),\n",
       "                  (('00',), 0.18000000000000002),\n",
       "                  (('01',), 0.05),\n",
       "                  (('10',), 0.09)])"
      ]
     },
     "execution_count": 34,
     "metadata": {},
     "output_type": "execute_result"
    }
   ],
   "source": [
    "# Marginalized POVMs now work!\n",
    "circ = pygsti.obj.Circuit([('Gxpi', 1), ('Gcnot', 1, 2)])\n",
    "ctf_model.probabilities(circ)"
   ]
  },
  {
   "cell_type": "code",
   "execution_count": null,
   "metadata": {},
   "outputs": [],
   "source": []
  }
 ],
 "metadata": {
  "kernelspec": {
   "display_name": "Python 3 (pygsti feature-chp-revive)",
   "language": "python",
   "name": "pygsti-chp"
  },
  "language_info": {
   "codemirror_mode": {
    "name": "ipython",
    "version": 3
   },
   "file_extension": ".py",
   "mimetype": "text/x-python",
   "name": "python",
   "nbconvert_exporter": "python",
   "pygments_lexer": "ipython3",
   "version": "3.8.7"
  }
 },
 "nbformat": 4,
 "nbformat_minor": 1
}
