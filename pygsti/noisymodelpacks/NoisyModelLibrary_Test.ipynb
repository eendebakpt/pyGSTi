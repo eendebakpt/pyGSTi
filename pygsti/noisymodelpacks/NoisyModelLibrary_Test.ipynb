{
 "cells": [
  {
   "cell_type": "code",
   "execution_count": null,
   "metadata": {},
   "outputs": [],
   "source": [
    "import numpy as np\n",
    "\n",
    "import pygsti\n",
    "from pygsti.noisymodelpacks import noisymodelpack as nmp\n",
    "from pygsti.objects.operation import ComposedOp, StochasticNoiseOp"
   ]
  },
  {
   "cell_type": "code",
   "execution_count": null,
   "metadata": {},
   "outputs": [],
   "source": [
    "pspec = pygsti.objects.ProcessorSpec(10, ['Gi', 'Gxpi', 'Gypi', 'Gcnot'])"
   ]
  },
  {
   "cell_type": "code",
   "execution_count": null,
   "metadata": {},
   "outputs": [],
   "source": [
    "mdl = nmp.create_pauli_stochastic_noise_model(pspec, ['Gi', ('Gi', 9), 'Gcnot'])"
   ]
  },
  {
   "cell_type": "code",
   "execution_count": null,
   "metadata": {},
   "outputs": [],
   "source": [
    "def print_stochastic_gates(mdl):\n",
    "    for lbl, op in mdl.operation_blks['gates'].items():\n",
    "        print(f'Gate {lbl}\\n{op}')\n",
    "        if isinstance(op, ComposedOp) and isinstance(op.factorops[1], StochasticNoiseOp):\n",
    "            noise_op = op.factorops[1]\n",
    "            rates = noise_op._params_to_rates(noise_op.params)\n",
    "            print(f'Total strength: {sum(rates)}\\nRates: {rates}\\n\\n')\n",
    "\n",
    "print_stochastic_gates(mdl)"
   ]
  },
  {
   "cell_type": "code",
   "execution_count": null,
   "metadata": {},
   "outputs": [],
   "source": [
    "rand_state = np.random.RandomState(2021)\n",
    "\n",
    "# Create stochastic noise model with:\n",
    "# slightly noisy idle, bad idle on qubit 9, and noisy CNOT gates\n",
    "# CNOT noise allows up to weight 2 (i.e. correlated) and different each qubit\n",
    "# Allow random total noise and random distribution among channels\n",
    "noisy_mdl = nmp.sample_noise_model(mdl,\n",
    "                                   max_total_strengths={\n",
    "                                        'Gi': 0.01,\n",
    "                                        ('Gi', 9): 0.5,\n",
    "                                        'Gcnot': 0.1},\n",
    "                                   max_weight=2,\n",
    "                                   rand_state=rand_state)"
   ]
  },
  {
   "cell_type": "code",
   "execution_count": null,
   "metadata": {},
   "outputs": [],
   "source": [
    "print_stochastic_gates(noisy_mdl)"
   ]
  },
  {
   "cell_type": "code",
   "execution_count": null,
   "metadata": {},
   "outputs": [],
   "source": [
    "# Let's try with only weight 1 on CNOT and make it symmetric\n",
    "noisy_mdl2 = nmp.sample_noise_model(mdl,\n",
    "     max_total_strengths={\n",
    "         'Gi': 0.01,\n",
    "         ('Gi', 9): 0.5,\n",
    "         'Gcnot': 0.1},\n",
    "     max_weight=1,  # from 2\n",
    "     symmetric_strengths=True, # from False\n",
    "     rand_state=rand_state)"
   ]
  },
  {
   "cell_type": "code",
   "execution_count": null,
   "metadata": {},
   "outputs": [],
   "source": [
    "print_stochastic_gates(noisy_mdl2)"
   ]
  },
  {
   "cell_type": "code",
   "execution_count": null,
   "metadata": {},
   "outputs": [],
   "source": [
    "# Let's generate a model with deterministic total strength\n",
    "noisy_mdl3 = nmp.sample_noise_model(mdl,\n",
    "     max_total_strengths={\n",
    "         'Gi': 0.01,\n",
    "         ('Gi', 9): 0.5,\n",
    "         'Gcnot': 0.1},\n",
    "     random_total_strength=False,   # from True\n",
    "     rand_state=rand_state)"
   ]
  },
  {
   "cell_type": "code",
   "execution_count": null,
   "metadata": {},
   "outputs": [],
   "source": [
    "print_stochastic_gates(noisy_mdl3)"
   ]
  },
  {
   "cell_type": "code",
   "execution_count": null,
   "metadata": {},
   "outputs": [],
   "source": [
    "# Or maybe random total strength but depolarizing\n",
    "noisy_mdl4 = nmp.sample_noise_model(mdl,\n",
    "     max_total_strengths={\n",
    "         'Gi': 0.01,\n",
    "         ('Gi', 9): 0.5,\n",
    "         'Gcnot': 0.1},\n",
    "     random_relative_strengths=False, # from True\n",
    "     rand_state=rand_state)"
   ]
  },
  {
   "cell_type": "code",
   "execution_count": null,
   "metadata": {},
   "outputs": [],
   "source": [
    "print_stochastic_gates(noisy_mdl4)"
   ]
  },
  {
   "cell_type": "code",
   "execution_count": null,
   "metadata": {},
   "outputs": [],
   "source": []
  }
 ],
 "metadata": {
  "kernelspec": {
   "display_name": "pyGSTi_noisy_model_packs",
   "language": "python",
   "name": "pygsti_noisy_model_packs"
  },
  "language_info": {
   "codemirror_mode": {
    "name": "ipython",
    "version": 3
   },
   "file_extension": ".py",
   "mimetype": "text/x-python",
   "name": "python",
   "nbconvert_exporter": "python",
   "pygments_lexer": "ipython3",
   "version": "3.8.9"
  }
 },
 "nbformat": 4,
 "nbformat_minor": 4
}
