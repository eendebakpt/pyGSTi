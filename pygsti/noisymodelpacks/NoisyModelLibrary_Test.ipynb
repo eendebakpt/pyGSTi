{
 "cells": [
  {
   "cell_type": "code",
   "execution_count": 1,
   "metadata": {},
   "outputs": [],
   "source": [
    "import numpy as np\n",
    "\n",
    "import pygsti\n",
    "from pygsti.noisymodelpacks import noisymodelpack as nmp\n",
    "from pygsti.objects.operation import ComposedOp, StochasticNoiseOp"
   ]
  },
  {
   "cell_type": "code",
   "execution_count": 2,
   "metadata": {},
   "outputs": [],
   "source": [
    "pspec = pygsti.objects.ProcessorSpec(10, ['Gi', 'Gxpi', 'Gypi', 'Gcnot'])"
   ]
  },
  {
   "cell_type": "code",
   "execution_count": 3,
   "metadata": {},
   "outputs": [],
   "source": [
    "mdl = nmp.create_pauli_stochastic_noise_model(pspec, ['Gi', ('Gi', 9), 'Gcnot'])"
   ]
  },
  {
   "cell_type": "code",
   "execution_count": 4,
   "metadata": {},
   "outputs": [
    {
     "name": "stdout",
     "output_type": "stream",
     "text": [
      "Gate Gcnot\n",
      "Composed operation of 2 factors:\n",
      "Factor 0:\n",
      "StaticStandardOp with name Gcnot and evotype densitymx\n",
      "Factor 1:\n",
      "Stochastic noise operation map with dim = 16, num params = 15\n",
      "\n",
      "Total strength: 0.0\n",
      "Rates: [0. 0. 0. 0. 0. 0. 0. 0. 0. 0. 0. 0. 0. 0. 0.]\n",
      "\n",
      "\n",
      "Gate Gypi\n",
      "StaticStandardOp with name Gypi and evotype densitymx\n",
      "\n",
      "Gate Gxpi\n",
      "StaticStandardOp with name Gxpi and evotype densitymx\n",
      "\n",
      "Gate Gi\n",
      "Composed operation of 2 factors:\n",
      "Factor 0:\n",
      "StaticStandardOp with name Gi and evotype densitymx\n",
      "Factor 1:\n",
      "Stochastic noise operation map with dim = 4, num params = 3\n",
      "\n",
      "Total strength: 0.0\n",
      "Rates: [0. 0. 0.]\n",
      "\n",
      "\n",
      "Gate Gi:9\n",
      "Composed operation of 2 factors:\n",
      "Factor 0:\n",
      "StaticStandardOp with name Gi and evotype densitymx\n",
      "Factor 1:\n",
      "Stochastic noise operation map with dim = 4, num params = 3\n",
      "\n",
      "Total strength: 0.0\n",
      "Rates: [0. 0. 0.]\n",
      "\n",
      "\n"
     ]
    }
   ],
   "source": [
    "def print_stochastic_gates(mdl):\n",
    "    for lbl, op in mdl.operation_blks['gates'].items():\n",
    "        print(f'Gate {lbl}\\n{op}')\n",
    "        if isinstance(op, ComposedOp) and isinstance(op.factorops[1], StochasticNoiseOp):\n",
    "            noise_op = op.factorops[1]\n",
    "            rates = noise_op._params_to_rates(noise_op.params)\n",
    "            print(f'Total strength: {sum(rates)}\\nRates: {rates}\\n\\n')\n",
    "\n",
    "print_stochastic_gates(mdl)"
   ]
  },
  {
   "cell_type": "code",
   "execution_count": 5,
   "metadata": {},
   "outputs": [],
   "source": [
    "rand_state = np.random.RandomState(2021)\n",
    "\n",
    "# Create stochastic noise model with:\n",
    "# slightly noisy idle, bad idle on qubit 9, and noisy CNOT gates\n",
    "# CNOT noise allows up to weight 2 (i.e. correlated) and different each qubit\n",
    "# Allow random total noise and random distribution among channels\n",
    "noisy_mdl = nmp.sample_noise_model(mdl,\n",
    "                                   max_total_strengths={\n",
    "                                        'Gi': 0.01,\n",
    "                                        ('Gi', 9): 0.5,\n",
    "                                        'Gcnot': 0.1},\n",
    "                                   max_weight=2,\n",
    "                                   rand_state=rand_state)"
   ]
  },
  {
   "cell_type": "code",
   "execution_count": 6,
   "metadata": {},
   "outputs": [
    {
     "name": "stdout",
     "output_type": "stream",
     "text": [
      "Gate Gcnot\n",
      "Composed operation of 2 factors:\n",
      "Factor 0:\n",
      "StaticStandardOp with name Gcnot and evotype densitymx\n",
      "Factor 1:\n",
      "Stochastic noise operation map with dim = 16, num params = 15\n",
      "\n",
      "Total strength: 0.060597827880740474\n",
      "Rates: [0.00628481 0.00119075 0.00267954 0.00854616 0.00109832 0.00153393\n",
      " 0.00645241 0.00567457 0.00672137 0.00083036 0.00050194 0.00824752\n",
      " 0.00528376 0.0007424  0.00480998]\n",
      "\n",
      "\n",
      "Gate Gypi\n",
      "StaticStandardOp with name Gypi and evotype densitymx\n",
      "\n",
      "Gate Gxpi\n",
      "StaticStandardOp with name Gxpi and evotype densitymx\n",
      "\n",
      "Gate Gi\n",
      "Composed operation of 2 factors:\n",
      "Factor 0:\n",
      "StaticStandardOp with name Gi and evotype densitymx\n",
      "Factor 1:\n",
      "Stochastic noise operation map with dim = 4, num params = 3\n",
      "\n",
      "Total strength: 0.0061652470861799005\n",
      "Rates: [0.0031123  0.00185446 0.0011985 ]\n",
      "\n",
      "\n",
      "Gate Gi:9\n",
      "Composed operation of 2 factors:\n",
      "Factor 0:\n",
      "StaticStandardOp with name Gi and evotype densitymx\n",
      "Factor 1:\n",
      "Stochastic noise operation map with dim = 4, num params = 3\n",
      "\n",
      "Total strength: 0.22607262189478217\n",
      "Rates: [0.04722665 0.13319961 0.04564636]\n",
      "\n",
      "\n"
     ]
    }
   ],
   "source": [
    "print_stochastic_gates(noisy_mdl)"
   ]
  },
  {
   "cell_type": "code",
   "execution_count": 7,
   "metadata": {},
   "outputs": [],
   "source": [
    "# Let's try with only weight 1 on CNOT and make it symmetric\n",
    "noisy_mdl2 = nmp.sample_noise_model(mdl,\n",
    "     max_total_strengths={\n",
    "         'Gi': 0.01,\n",
    "         ('Gi', 9): 0.5,\n",
    "         'Gcnot': 0.1},\n",
    "     max_weight=1,  # from 2\n",
    "     symmetric_strengths=True, # from False\n",
    "     rand_state=rand_state)"
   ]
  },
  {
   "cell_type": "code",
   "execution_count": 8,
   "metadata": {},
   "outputs": [
    {
     "name": "stdout",
     "output_type": "stream",
     "text": [
      "Gate Gcnot\n",
      "Composed operation of 2 factors:\n",
      "Factor 0:\n",
      "StaticStandardOp with name Gcnot and evotype densitymx\n",
      "Factor 1:\n",
      "Stochastic noise operation map with dim = 16, num params = 15\n",
      "\n",
      "Total strength: 0.0583704016323978\n",
      "Rates: [0.00764974 0.00831625 0.01321921 0.00764974 0.         0.\n",
      " 0.         0.00831625 0.         0.         0.         0.01321921\n",
      " 0.         0.         0.        ]\n",
      "\n",
      "\n",
      "Gate Gypi\n",
      "StaticStandardOp with name Gypi and evotype densitymx\n",
      "\n",
      "Gate Gxpi\n",
      "StaticStandardOp with name Gxpi and evotype densitymx\n",
      "\n",
      "Gate Gi\n",
      "Composed operation of 2 factors:\n",
      "Factor 0:\n",
      "StaticStandardOp with name Gi and evotype densitymx\n",
      "Factor 1:\n",
      "Stochastic noise operation map with dim = 4, num params = 3\n",
      "\n",
      "Total strength: 0.0073222502693899095\n",
      "Rates: [0.00036518 0.00355427 0.0034028 ]\n",
      "\n",
      "\n",
      "Gate Gi:9\n",
      "Composed operation of 2 factors:\n",
      "Factor 0:\n",
      "StaticStandardOp with name Gi and evotype densitymx\n",
      "Factor 1:\n",
      "Stochastic noise operation map with dim = 4, num params = 3\n",
      "\n",
      "Total strength: 0.4140071851295825\n",
      "Rates: [0.05879988 0.17757316 0.17763414]\n",
      "\n",
      "\n"
     ]
    }
   ],
   "source": [
    "print_stochastic_gates(noisy_mdl2)"
   ]
  },
  {
   "cell_type": "code",
   "execution_count": 9,
   "metadata": {},
   "outputs": [],
   "source": [
    "# Let's generate a model with deterministic total strength\n",
    "noisy_mdl3 = nmp.sample_noise_model(mdl,\n",
    "     max_total_strengths={\n",
    "         'Gi': 0.01,\n",
    "         ('Gi', 9): 0.5,\n",
    "         'Gcnot': 0.1},\n",
    "     random_total_strength=False,   # from True\n",
    "     rand_state=rand_state)"
   ]
  },
  {
   "cell_type": "code",
   "execution_count": 10,
   "metadata": {},
   "outputs": [
    {
     "name": "stdout",
     "output_type": "stream",
     "text": [
      "Gate Gcnot\n",
      "Composed operation of 2 factors:\n",
      "Factor 0:\n",
      "StaticStandardOp with name Gcnot and evotype densitymx\n",
      "Factor 1:\n",
      "Stochastic noise operation map with dim = 16, num params = 15\n",
      "\n",
      "Total strength: 0.10000000000000003\n",
      "Rates: [0.00908809 0.02631445 0.01779936 0.02963581 0.         0.\n",
      " 0.         0.01334927 0.         0.         0.         0.00381304\n",
      " 0.         0.         0.        ]\n",
      "\n",
      "\n",
      "Gate Gypi\n",
      "StaticStandardOp with name Gypi and evotype densitymx\n",
      "\n",
      "Gate Gxpi\n",
      "StaticStandardOp with name Gxpi and evotype densitymx\n",
      "\n",
      "Gate Gi\n",
      "Composed operation of 2 factors:\n",
      "Factor 0:\n",
      "StaticStandardOp with name Gi and evotype densitymx\n",
      "Factor 1:\n",
      "Stochastic noise operation map with dim = 4, num params = 3\n",
      "\n",
      "Total strength: 0.010000000000000002\n",
      "Rates: [0.00274072 0.00232574 0.00493354]\n",
      "\n",
      "\n",
      "Gate Gi:9\n",
      "Composed operation of 2 factors:\n",
      "Factor 0:\n",
      "StaticStandardOp with name Gi and evotype densitymx\n",
      "Factor 1:\n",
      "Stochastic noise operation map with dim = 4, num params = 3\n",
      "\n",
      "Total strength: 0.5\n",
      "Rates: [0.16198248 0.20348009 0.13453744]\n",
      "\n",
      "\n"
     ]
    }
   ],
   "source": [
    "print_stochastic_gates(noisy_mdl3)"
   ]
  },
  {
   "cell_type": "code",
   "execution_count": 11,
   "metadata": {},
   "outputs": [],
   "source": [
    "# Or maybe random total strength but depolarizing\n",
    "noisy_mdl4 = nmp.sample_noise_model(mdl,\n",
    "     max_total_strengths={\n",
    "         'Gi': 0.01,\n",
    "         ('Gi', 9): 0.5,\n",
    "         'Gcnot': 0.1},\n",
    "     random_relative_strengths=False, # from True\n",
    "     rand_state=rand_state)"
   ]
  },
  {
   "cell_type": "code",
   "execution_count": 12,
   "metadata": {},
   "outputs": [
    {
     "name": "stdout",
     "output_type": "stream",
     "text": [
      "Gate Gcnot\n",
      "Composed operation of 2 factors:\n",
      "Factor 0:\n",
      "StaticStandardOp with name Gcnot and evotype densitymx\n",
      "Factor 1:\n",
      "Stochastic noise operation map with dim = 16, num params = 15\n",
      "\n",
      "Total strength: 0.06368299245545493\n",
      "Rates: [0.01061383 0.01061383 0.01061383 0.01061383 0.         0.\n",
      " 0.         0.01061383 0.         0.         0.         0.01061383\n",
      " 0.         0.         0.        ]\n",
      "\n",
      "\n",
      "Gate Gypi\n",
      "StaticStandardOp with name Gypi and evotype densitymx\n",
      "\n",
      "Gate Gxpi\n",
      "StaticStandardOp with name Gxpi and evotype densitymx\n",
      "\n",
      "Gate Gi\n",
      "Composed operation of 2 factors:\n",
      "Factor 0:\n",
      "StaticStandardOp with name Gi and evotype densitymx\n",
      "Factor 1:\n",
      "Stochastic noise operation map with dim = 4, num params = 3\n",
      "\n",
      "Total strength: 0.0034220893702305837\n",
      "Rates: [0.0011407 0.0011407 0.0011407]\n",
      "\n",
      "\n",
      "Gate Gi:9\n",
      "Composed operation of 2 factors:\n",
      "Factor 0:\n",
      "StaticStandardOp with name Gi and evotype densitymx\n",
      "Factor 1:\n",
      "Stochastic noise operation map with dim = 4, num params = 3\n",
      "\n",
      "Total strength: 0.41189559139564286\n",
      "Rates: [0.13729853 0.13729853 0.13729853]\n",
      "\n",
      "\n"
     ]
    }
   ],
   "source": [
    "print_stochastic_gates(noisy_mdl4)"
   ]
  },
  {
   "cell_type": "code",
   "execution_count": null,
   "metadata": {},
   "outputs": [],
   "source": []
  }
 ],
 "metadata": {
  "kernelspec": {
   "display_name": "pyGSTi_noisy_model_packs",
   "language": "python",
   "name": "pygsti_noisy_model_packs"
  },
  "language_info": {
   "codemirror_mode": {
    "name": "ipython",
    "version": 3
   },
   "file_extension": ".py",
   "mimetype": "text/x-python",
   "name": "python",
   "nbconvert_exporter": "python",
   "pygments_lexer": "ipython3",
   "version": "3.8.9"
  }
 },
 "nbformat": 4,
 "nbformat_minor": 4
}
